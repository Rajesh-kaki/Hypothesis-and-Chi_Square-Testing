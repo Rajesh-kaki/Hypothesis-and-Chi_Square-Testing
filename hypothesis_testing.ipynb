{
 "cells": [
  {
   "cell_type": "code",
   "execution_count": 1,
   "id": "393a1d72",
   "metadata": {},
   "outputs": [
    {
     "name": "stdout",
     "output_type": "stream",
     "text": [
      "1. Hypotheses:\n",
      "   Null Hypothesis (H0): The weekly operating cost is equal to the cost predicted by the model.\n",
      "   Alternative Hypothesis (H1): The weekly operating cost is higher than the cost predicted by the model.\n",
      "\n",
      "2. Calculate the Test Statistic:\n",
      "   Sample Mean Weekly Cost: $3050\n",
      "   Theoretical Mean Weekly Cost: $4000\n",
      "   Standard Deviation of Cost: $125\n",
      "   Calculated t-statistic: -38.0000\n",
      "\n",
      "3. Determine the Critical Value:\n",
      "   Alpha level: 0.05\n",
      "   Critical Value (Z): 1.6449\n",
      "\n",
      "4. Make a Decision:\n",
      "   Test Statistic: -38.0000\n",
      "   Critical Value: 1.6449\n",
      "   Decision: Fail to reject the null hypothesis.\n",
      "\n",
      "5. Conclusion:\n",
      "There is not enough evidence to support the restaurant owners' claim that the weekly operating costs are higher than the model suggests.\n"
     ]
    }
   ],
   "source": [
    "import scipy.stats as st\n",
    "\n",
    "# Given data\n",
    "sample_mean = 3050  # Sample mean weekly cost\n",
    "theoretical_model = lambda x: 1000 + 5 * x  # Theoretical weekly operating cost model\n",
    "mean_units = 600  # Mean units produced in a week\n",
    "std_dev_units = 25  # Standard deviation of units produced\n",
    "n = 25  # Sample size\n",
    "alpha = 0.05  # Significance level\n",
    "\n",
    "# 1. State the Hypotheses\n",
    "# Null Hypothesis (H0): The weekly operating cost is equal to the cost predicted by the model.\n",
    "# Alternative Hypothesis (H1): The weekly operating cost is higher than the cost predicted by the model.\n",
    "\n",
    "print(\"1. Hypotheses:\")\n",
    "print(\"   Null Hypothesis (H0): The weekly operating cost is equal to the cost predicted by the model.\")\n",
    "print(\"   Alternative Hypothesis (H1): The weekly operating cost is higher than the cost predicted by the model.\\n\")\n",
    "\n",
    "# 2. Calculate the Test Statistic\n",
    "theoretical_mean_cost = theoretical_model(mean_units)\n",
    "std_dev_cost = 5 * std_dev_units  # Standard deviation of the cost\n",
    "\n",
    "t_statistic = (sample_mean - theoretical_mean_cost) / (std_dev_cost / (n**0.5))\n",
    "\n",
    "print(\"2. Calculate the Test Statistic:\")\n",
    "print(f\"   Sample Mean Weekly Cost: ${sample_mean}\")\n",
    "print(f\"   Theoretical Mean Weekly Cost: ${theoretical_mean_cost}\")\n",
    "print(f\"   Standard Deviation of Cost: ${std_dev_cost}\")\n",
    "print(f\"   Calculated t-statistic: {t_statistic:.4f}\\n\")\n",
    "\n",
    "# 3. Determine the Critical Value\n",
    "# Since the alternative hypothesis is one-tailed (higher), we find the critical value for a right-tailed test.\n",
    "z_critical = st.norm.ppf(1 - alpha)  # Using Z-distribution as standard normal distribution is mentioned\n",
    "\n",
    "print(\"3. Determine the Critical Value:\")\n",
    "print(f\"   Alpha level: {alpha}\")\n",
    "print(f\"   Critical Value (Z): {z_critical:.4f}\\n\")\n",
    "\n",
    "# 4. Make a Decision\n",
    "if t_statistic > z_critical:\n",
    "    decision = \"Reject the null hypothesis.\"\n",
    "else:\n",
    "    decision = \"Fail to reject the null hypothesis.\"\n",
    "\n",
    "print(\"4. Make a Decision:\")\n",
    "print(f\"   Test Statistic: {t_statistic:.4f}\")\n",
    "print(f\"   Critical Value: {z_critical:.4f}\")\n",
    "print(f\"   Decision: {decision}\\n\")\n",
    "\n",
    "# 5. Conclusion\n",
    "if decision == \"Reject the null hypothesis.\":\n",
    "    conclusion = \"There is strong evidence to support the restaurant owners' claim that the weekly operating costs are higher than the model suggests.\"\n",
    "else:\n",
    "    conclusion = \"There is not enough evidence to support the restaurant owners' claim that the weekly operating costs are higher than the model suggests.\"\n",
    "\n",
    "print(\"5. Conclusion:\")\n",
    "print(conclusion)"
   ]
  }
 ],
 "metadata": {
  "kernelspec": {
   "display_name": "Python 3 (ipykernel)",
   "language": "python",
   "name": "python3"
  },
  "language_info": {
   "codemirror_mode": {
    "name": "ipython",
    "version": 3
   },
   "file_extension": ".py",
   "mimetype": "text/x-python",
   "name": "python",
   "nbconvert_exporter": "python",
   "pygments_lexer": "ipython3",
   "version": "3.9.7"
  }
 },
 "nbformat": 4,
 "nbformat_minor": 5
}
