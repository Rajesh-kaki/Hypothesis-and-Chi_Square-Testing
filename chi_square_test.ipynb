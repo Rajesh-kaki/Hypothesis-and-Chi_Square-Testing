{
 "cells": [
  {
   "cell_type": "code",
   "execution_count": 1,
   "id": "3f72b499",
   "metadata": {},
   "outputs": [
    {
     "name": "stdout",
     "output_type": "stream",
     "text": [
      "1. Hypotheses:\n",
      "   Null Hypothesis (H0): There is no association between the type of device purchased and customer satisfaction level.\n",
      "   Alternative Hypothesis (H1): There is a significant association between the type of device purchased and customer satisfaction level.\n",
      "\n",
      "2. Chi-Square Statistic:\n",
      "   Calculated Chi-Square Statistic: 5.6382\n",
      "\n",
      "3. Critical Value:\n",
      "   Significance Level (alpha): 0.05\n",
      "   Degrees of Freedom: 4\n",
      "   Critical Value: 9.4877\n",
      "\n",
      "4. Decision:\n",
      "   Decision: Fail to reject the null hypothesis. There is no significant association between device type and customer satisfaction.\n"
     ]
    }
   ],
   "source": [
    "import numpy as np\n",
    "from scipy.stats import chi2\n",
    "\n",
    "# Data from the contingency table [cite: 3, 4]\n",
    "observed_data = np.array([[50, 70],\n",
    "                          [80, 100],\n",
    "                          [60, 90],\n",
    "                          [30, 50],\n",
    "                          [20, 50]])\n",
    "\n",
    "# 1. State the Hypotheses [cite: 6]\n",
    "# Null Hypothesis (H0): There is no association between the type of device purchased and customer satisfaction level.\n",
    "# Alternative Hypothesis (H1): There is a significant association between the type of device purchased and customer satisfaction level.\n",
    "\n",
    "print(\"1. Hypotheses:\")\n",
    "print(\"   Null Hypothesis (H0): There is no association between the type of device purchased and customer satisfaction level.\")\n",
    "print(\"   Alternative Hypothesis (H1): There is a significant association between the type of device purchased and customer satisfaction level.\\n\")\n",
    "\n",
    "# 2. Compute the Chi-Square Statistic [cite: 6]\n",
    "# Calculate the expected frequencies\n",
    "row_totals = observed_data.sum(axis=1)\n",
    "col_totals = observed_data.sum(axis=0)\n",
    "grand_total = observed_data.sum()\n",
    "\n",
    "expected_data = np.outer(row_totals, col_totals) / grand_total\n",
    "\n",
    "# Calculate the Chi-Square statistic\n",
    "chi2_statistic = np.sum((observed_data - expected_data) ** 2 / expected_data)\n",
    "\n",
    "print(\"2. Chi-Square Statistic:\")\n",
    "print(f\"   Calculated Chi-Square Statistic: {chi2_statistic:.4f}\\n\")\n",
    "\n",
    "# 3. Determine the Critical Value [cite: 6]\n",
    "alpha = 0.05  # Significance level\n",
    "degrees_of_freedom = (observed_data.shape[0] - 1) * (observed_data.shape[1] - 1)\n",
    "\n",
    "critical_value = chi2.ppf(1 - alpha, degrees_of_freedom)\n",
    "\n",
    "print(\"3. Critical Value:\")\n",
    "print(f\"   Significance Level (alpha): {alpha}\")\n",
    "print(f\"   Degrees of Freedom: {degrees_of_freedom}\")\n",
    "print(f\"   Critical Value: {critical_value:.4f}\\n\")\n",
    "\n",
    "# 4. Make a Decision [cite: 6]\n",
    "if chi2_statistic > critical_value:\n",
    "    decision = \"Reject the null hypothesis. There is a significant association between device type and customer satisfaction.\"\n",
    "else:\n",
    "    decision = \"Fail to reject the null hypothesis. There is no significant association between device type and customer satisfaction.\"\n",
    "\n",
    "print(\"4. Decision:\")\n",
    "print(f\"   Decision: {decision}\")"
   ]
  }
 ],
 "metadata": {
  "kernelspec": {
   "display_name": "Python 3 (ipykernel)",
   "language": "python",
   "name": "python3"
  },
  "language_info": {
   "codemirror_mode": {
    "name": "ipython",
    "version": 3
   },
   "file_extension": ".py",
   "mimetype": "text/x-python",
   "name": "python",
   "nbconvert_exporter": "python",
   "pygments_lexer": "ipython3",
   "version": "3.9.7"
  }
 },
 "nbformat": 4,
 "nbformat_minor": 5
}
